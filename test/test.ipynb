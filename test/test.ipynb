{
 "cells": [
  {
   "cell_type": "code",
   "execution_count": 11,
   "id": "3769c88b-d231-45d2-b9ae-4e8d6a941851",
   "metadata": {},
   "outputs": [],
   "source": [
    "import re\n",
    "import pandas as pd"
   ]
  },
  {
   "cell_type": "code",
   "execution_count": 8,
   "id": "66c84329-28f4-432e-94ec-24b55de59e61",
   "metadata": {},
   "outputs": [],
   "source": [
    "x = 'gene_id \"ENSG00000215601\"; gene_version 3; transcript_id \"ENST00000431340\"; transcript_version \"1\"; gene_name \"TSPY24P\"; gene_source \"havana\"; gene_biotype \"unprocessed_pseudogene\"; transcript_name \"TSPY24P-201\"; transcript_source \"havana\"; transcript_biotype \"unprocessed_pseudogene\"; tag \"basic\"; tag \"Ensembl_canonical\"; transcript_support_level \"NA\";'"
   ]
  },
  {
   "cell_type": "code",
   "execution_count": 9,
   "id": "fe941404-6465-4f05-ade7-c99efd94e8e3",
   "metadata": {},
   "outputs": [],
   "source": [
    "pattern = re.compile(r'(\\w+) \"?(\\w+)\"?;')"
   ]
  },
  {
   "cell_type": "code",
   "execution_count": 10,
   "id": "8d9f39d1-a0a5-4def-9715-1ce2540ed53c",
   "metadata": {},
   "outputs": [
    {
     "name": "stdout",
     "output_type": "stream",
     "text": [
      "gene_id ENSG00000215601\n",
      "gene_version 3\n",
      "transcript_id ENST00000431340\n",
      "transcript_version 1\n",
      "gene_name TSPY24P\n",
      "gene_source havana\n",
      "gene_biotype unprocessed_pseudogene\n",
      "transcript_source havana\n",
      "transcript_biotype unprocessed_pseudogene\n",
      "tag basic\n",
      "tag Ensembl_canonical\n",
      "transcript_support_level NA\n"
     ]
    }
   ],
   "source": [
    "for m in pattern.finditer(x):\n",
    "    print(m.group(1), m.group(2))"
   ]
  },
  {
   "cell_type": "code",
   "execution_count": 14,
   "id": "26e677fc-ff4e-4219-b89e-d98349b484e9",
   "metadata": {},
   "outputs": [
    {
     "data": {
      "text/plain": [
       "col1    bool\n",
       "col2    bool\n",
       "dtype: object"
      ]
     },
     "execution_count": 14,
     "metadata": {},
     "output_type": "execute_result"
    }
   ],
   "source": [
    "pd.read_csv('bool.tsv', delimiter=' ').dtypes"
   ]
  },
  {
   "cell_type": "markdown",
   "id": "a0b467cb-45d3-4c79-a075-8a87351f6b0b",
   "metadata": {},
   "source": [
    "### abs is abcde\n",
    "this is text\n",
    "```bash\n",
    "test\n",
    "```"
   ]
  },
  {
   "cell_type": "code",
   "execution_count": 15,
   "id": "dc223ca9-eea5-4154-b001-42ac2ca672cd",
   "metadata": {},
   "outputs": [],
   "source": [
    "x = set()"
   ]
  },
  {
   "cell_type": "code",
   "execution_count": 17,
   "id": "aea8e5c4-61f5-49ab-be35-148dd096738c",
   "metadata": {},
   "outputs": [],
   "source": [
    "x.add('3')\n",
    "x"
   ]
  },
  {
   "cell_type": "code",
   "execution_count": 18,
   "id": "9b38250b-cb93-4010-90c4-36de17bf29a1",
   "metadata": {},
   "outputs": [
    {
     "data": {
      "text/plain": [
       "{'3', '4'}"
      ]
     },
     "execution_count": 18,
     "metadata": {},
     "output_type": "execute_result"
    }
   ],
   "source": [
    "x.add('4')\n",
    "x"
   ]
  },
  {
   "cell_type": "code",
   "execution_count": 21,
   "id": "c8b88494-4f32-4eba-b666-e2c592f03bd5",
   "metadata": {},
   "outputs": [
    {
     "data": {
      "text/plain": [
       "['2', '3', '4']"
      ]
     },
     "execution_count": 21,
     "metadata": {},
     "output_type": "execute_result"
    }
   ],
   "source": [
    "x.add('2')\n",
    "list(x)"
   ]
  },
  {
   "cell_type": "code",
   "execution_count": 22,
   "id": "b07a93cb-f2d9-4b6a-9f0e-004daf47333e",
   "metadata": {},
   "outputs": [
    {
     "data": {
      "text/plain": [
       "{'2', '3', '4'}"
      ]
     },
     "execution_count": 22,
     "metadata": {},
     "output_type": "execute_result"
    }
   ],
   "source": [
    "x"
   ]
  },
  {
   "cell_type": "code",
   "execution_count": null,
   "id": "b8d32b41-95f3-4cd1-a1d0-dca32cb2a8c8",
   "metadata": {},
   "outputs": [],
   "source": []
  }
 ],
 "metadata": {
  "kernelspec": {
   "display_name": "Python 3 (ipykernel)",
   "language": "python",
   "name": "python3"
  },
  "language_info": {
   "codemirror_mode": {
    "name": "ipython",
    "version": 3
   },
   "file_extension": ".py",
   "mimetype": "text/x-python",
   "name": "python",
   "nbconvert_exporter": "python",
   "pygments_lexer": "ipython3",
   "version": "3.10.2"
  }
 },
 "nbformat": 4,
 "nbformat_minor": 5
}
